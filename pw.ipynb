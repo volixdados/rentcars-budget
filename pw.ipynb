{
 "cells": [
  {
   "cell_type": "code",
   "execution_count": 1,
   "metadata": {},
   "outputs": [],
   "source": [
    "from playwright.async_api import async_playwright\n",
    "import requests\n",
    "from random import randint\n",
    "\n",
    "SCRAPEOPS_API_KEY = 'c36424ca-4337-481c-85f9-43696441d7ea'\n",
    "\n",
    "def get_headers_list():\n",
    "  response = requests.get('http://headers.scrapeops.io/v1/browser-headers?api_key=' + SCRAPEOPS_API_KEY)\n",
    "  json_response = response.json()\n",
    "  return json_response.get('result', [])\n",
    "\n",
    "def get_random_header(header_list):\n",
    "  random_index = randint(0, len(header_list) - 1)\n",
    "  return header_list[random_index]\n",
    "\n",
    "header_list = get_headers_list()"
   ]
  },
  {
   "cell_type": "code",
   "execution_count": 2,
   "metadata": {},
   "outputs": [],
   "source": [
    "\n",
    "pw = await async_playwright().start()\n",
    "\n",
    "browser = await pw.chromium.launch(headless=False)\n",
    "page = await browser.new_page()\n",
    "\n",
    "# note all methods are async (use the \"await\" keyword)\n",
    "# await page.goto(\"http://scrapfly.io/\")\n"
   ]
  },
  {
   "cell_type": "code",
   "execution_count": 6,
   "metadata": {},
   "outputs": [],
   "source": [
    "user_agent = get_random_header(header_list)['user-agent']\n",
    "\n",
    "context = await browser.new_context(\n",
    "                    extra_http_headers = {'user-agent': user_agent}\n",
    "    )\n",
    "page = await context.new_page()"
   ]
  },
  {
   "cell_type": "code",
   "execution_count": 25,
   "metadata": {},
   "outputs": [
    {
     "data": {
      "text/plain": [
       "<Response url='https://www.budget.com/en/home' request=<Request url='https://www.budget.com/en/home' method='GET'>>"
      ]
     },
     "execution_count": 25,
     "metadata": {},
     "output_type": "execute_result"
    }
   ],
   "source": [
    "await page.goto('https://www.budget.com/en/home')"
   ]
  },
  {
   "cell_type": "code",
   "execution_count": 8,
   "metadata": {},
   "outputs": [],
   "source": [
    "await page.click('button[data-click=close]')"
   ]
  },
  {
   "cell_type": "code",
   "execution_count": 9,
   "metadata": {},
   "outputs": [],
   "source": [
    "await page.click('#usRedirect')"
   ]
  },
  {
   "cell_type": "code",
   "execution_count": 26,
   "metadata": {},
   "outputs": [
    {
     "data": {
      "text/plain": [
       "<coroutine object Page.fill at 0x7fb430382640>"
      ]
     },
     "execution_count": 26,
     "metadata": {},
     "output_type": "execute_result"
    }
   ],
   "source": [
    "page.fill('#PicLoc_value','Miami Intl Airport, MIA')"
   ]
  },
  {
   "cell_type": "code",
   "execution_count": null,
   "metadata": {},
   "outputs": [],
   "source": []
  },
  {
   "cell_type": "code",
   "execution_count": 22,
   "metadata": {},
   "outputs": [],
   "source": [
    "await page.click('#PicLoc_value')\n",
    "for letra in 'miami':\n",
    "    await page.keyboard.press(letra)"
   ]
  },
  {
   "cell_type": "code",
   "execution_count": 23,
   "metadata": {},
   "outputs": [],
   "source": [
    "await page.click('div[class=angucomplete-results]')"
   ]
  },
  {
   "cell_type": "code",
   "execution_count": 11,
   "metadata": {},
   "outputs": [],
   "source": [
    "div[class=angucomplete-results]"
   ]
  },
  {
   "cell_type": "code",
   "execution_count": 12,
   "metadata": {},
   "outputs": [],
   "source": [
    "await page.keyboard.press('Enter')"
   ]
  },
  {
   "cell_type": "code",
   "execution_count": null,
   "metadata": {},
   "outputs": [],
   "source": [
    "\n",
    "# to stop browser on notebook close we can add a shutdown hook:\n",
    "def shutdown_playwright():\n",
    "    await browser.close()\n",
    "    await pw.stop()"
   ]
  },
  {
   "cell_type": "code",
   "execution_count": null,
   "metadata": {},
   "outputs": [],
   "source": [
    "from playwright.sync_api import sync_playwright\n",
    "from playwright_stealth import stealth_sync\n",
    "from time import sleep\n",
    "import datetime\n",
    "from bs4 import BeautifulSoup\n",
    "import json\n",
    "\n",
    "\n",
    "\n",
    "\n",
    "# username = 'j9f5awr7br'\n",
    "# password = '11rn5hwz9s'\n",
    "# server = 'http://resi.proxyscrape.com:8000'\n",
    "server = 'zproxy.lum-superproxy.io:22225'\n",
    "username = 'brd-customer-hl_4ba48506-zone-isp'\n",
    "password = '5flzp7i4gt23'\n",
    "\n",
    "proxies = {\n",
    "\t\t'server': server,\n",
    "\t\t'username': username,\n",
    "\t\t'password': password\n",
    "\t}\n",
    "\n",
    "\n",
    "\n",
    "retirada = datetime.datetime(2023,6,10)\n",
    "devolucao = datetime.datetime(2023,6,12)\n",
    "hora_retirada = '10:00'\n",
    "\n",
    "def save_json (response, results):\n",
    "    try:\n",
    "        results.append(\n",
    "            {\n",
    "            'url': response.url,\n",
    "            'data': response.json(),\n",
    "            }\n",
    "        )\n",
    "    except:\n",
    "        pass\n",
    "\n",
    "def route_intercept(route):\n",
    "    if route.request.resource_type == \"image\":\n",
    "        print(f\"Blocking the image request to: {route.request.url}\")\n",
    "        return route.abort()\n",
    "    if \"localiza.com\" not in route.request.url:\n",
    "        print(f\"blocking {route.request.url} as it contains Google\")\n",
    "        return route.abort()\n",
    "    return route.continue_()\n",
    "\n",
    "def texto_tag(page,tag):\n",
    "    page.is_visible(tag)\n",
    "    html = page.inner_html(tag)\n",
    "    soup = BeautifulSoup(html, 'html.parser')\n",
    "\n",
    "    return soup.text\n",
    "\n",
    "\n",
    "def busca_data (page, data, indice):\n",
    "    mes_ext = ' ' + meses.get(data.month) + f' DE {data.year} '\n",
    "\n",
    "    page.is_visible(f'mat-datepicker-{indice}')\n",
    "    \n",
    "    while texto_tag(page,'span[class=mat-button-wrapper]') != mes_ext:\n",
    "        page.is_visible('button[aria-label=\"Next month\"]')\n",
    "        page.click('button[aria-label=\"Next month\"]')\n",
    "\n",
    "    page.is_visible('div[class=mat-calendar-body-cell-content]')\n",
    "    page.get_by_text(f' {data.day} ', exact=True).click()\n",
    "\n",
    "def busca_hora (page, hora):\n",
    "    page.is_visible('span[class=mat-option-text]')\n",
    "    page.get_by_text(f' {hora} ', exact=True).click()      \n",
    "\n",
    "def gera_ran(min=4000, max =7000):\n",
    "    return randint(min,max)/1000\n",
    "\n",
    "def run (playwright):\n",
    "    browser = playwright.chromium.launch(headless=False,slow_mo=50\n",
    "                                         #,   proxy = proxies\n",
    "                                         )\n",
    "\n",
    "    user_agent = get_random_header(header_list)['user-agent']\n",
    "\n",
    "    context = browser.new_context(\n",
    "                        extra_http_headers = {'user-agent': user_agent}\n",
    "        )\n",
    "    page = context.new_page()\n",
    "    stealth_sync(page)\n",
    "    #page.route(\"**/*\", route_intercept)\n",
    "\n",
    "    page.goto('https://www.budget.com/en/home', timeout = 100000)\n",
    "\n",
    "    sleep(gera_ran())\n",
    "    page.click('input#mat-input-1')\n",
    "    for letra in 'guarulhos':\n",
    "        page.keyboard.press(letra)\n",
    "    sleep(gera_ran())\n",
    "    page.click('span[class=places-list__item__name]')\n",
    "    print('loja selecionada')\n",
    "    \n",
    "    busca_data (page, retirada,0)\n",
    "    sleep(gera_ran())\n",
    "\n",
    "    busca_hora (page, ' 10:00 ')\n",
    "    sleep(gera_ran())\n",
    "    print('data selecionada')\n",
    "    busca_data (page, devolucao,1)\n",
    "    sleep(gera_ran())\n",
    "\n",
    "    page.is_visible('span[class=ng-star-inserted]')\n",
    "    page.click('span[class=ng-star-inserted]')\n",
    "    print('data selecionada')\n",
    "    sleep(gera_ran())\n",
    "    print('aguardando resposta final')\n",
    "\n",
    "    page.is_visible('#main-content')\n",
    "\n",
    "    \n",
    "    results = []\n",
    "    sleep(20)\n",
    "    page.wait_for_url('https://www.localiza.com/brasil/pt-br/reservas/passo-2')\n",
    "    page.on('response', lambda response: save_json(response, results))\n",
    "\n",
    "    return results\n",
    "\n",
    "    \n",
    "\n",
    "\n",
    "with sync_playwright() as playwright:\n",
    "    data = run(playwright)\n",
    "    print(data)\n",
    "    hora_pesquisa = int(datetime.datetime.timestamp(datetime.datetime.now()))\n",
    "    with open(rf'json/resultado_{hora_pesquisa}.json', 'w') as f:\n",
    "        json.dump(data, f)"
   ]
  }
 ],
 "metadata": {
  "kernelspec": {
   "display_name": "scrapy",
   "language": "python",
   "name": "python3"
  },
  "language_info": {
   "codemirror_mode": {
    "name": "ipython",
    "version": 3
   },
   "file_extension": ".py",
   "mimetype": "text/x-python",
   "name": "python",
   "nbconvert_exporter": "python",
   "pygments_lexer": "ipython3",
   "version": "3.11.3"
  },
  "orig_nbformat": 4
 },
 "nbformat": 4,
 "nbformat_minor": 2
}
